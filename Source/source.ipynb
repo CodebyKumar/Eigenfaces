{
 "cells": [
  {
   "cell_type": "code",
   "execution_count": 3,
   "metadata": {},
   "outputs": [],
   "source": [
    "import cv2\n",
    "import numpy as np\n",
    "import os\n",
    "import matplotlib.pyplot as plt"
   ]
  },
  {
   "cell_type": "code",
   "execution_count": 4,
   "metadata": {},
   "outputs": [],
   "source": [
    "# function to load and process image\n",
    "def load_image_from_image_dataset(folder_path, target_size=(70,80)):\n",
    "    images = [] # to store the resized images as array \n",
    "    labels = [] # to store names of the folder(person) inside the dataset \n",
    "    label_map = {}\n",
    "    label_id = 0 #used to label the images instead of foldernames of the person\n",
    "\n",
    "    for folder_name in sorted(os.listdir(folder_path)):\n",
    "        sub_path= os.path.join(folder_path, folder_name)\n",
    "        if not os.path.isdir(sub_path):\n",
    "            continue\n",
    "\n",
    "        label_map[label_id] = folder_name\n",
    "        current_label = label_id\n",
    "        label_id+=1\n",
    "        \n",
    "        for filename in os.listdir(sub_path):\n",
    "            image_path= os.path.join(sub_path, filename)\n",
    "            try:\n",
    "                img=cv2.imread(image_path,cv2.IMREAD_GRAYSCALE)\n",
    "\n",
    "                if img is None:\n",
    "                    print(f\"Warning: Could not read {filename}\")\n",
    "                    continue\n",
    "\n",
    "                img_resized=cv2.resize(img,target_size)\n",
    "                images.append(img_resized)\n",
    "                labels.append(current_label)\n",
    "            except Exception as e:\n",
    "                print(f\"Error loading {filename}: {e}\")\n",
    "    \n",
    "    return np.array(images).T, np.array(labels), label_map\n"
   ]
  },
  {
   "cell_type": "code",
   "execution_count": 5,
   "metadata": {},
   "outputs": [],
   "source": [
    "# function to train eigenfaces\n",
    "def train_eigenfaces(image_matrix):\n",
    "\n",
    "    mean, eigenvectors, eigenvalues=cv2.PCACompute2(image_matrix.T, None) # opencv will compute eigenvectors(eigenfaces) and also the mean\n",
    "    return mean, eigenvectors, eigenvalues"
   ]
  },
  {
   "cell_type": "code",
   "execution_count": 6,
   "metadata": {},
   "outputs": [
    {
     "name": "stdout",
     "output_type": "stream",
     "text": [
      "Shape of train images:  (70, 80, 130)\n",
      "[ 0  0  0  0  0  0  0  0  0  0  1  1  1  1  1  1  1  1  1  1  2  2  2  2\n",
      "  2  2  2  2  2  2  3  3  3  3  3  3  3  3  3  3  4  4  4  4  4  4  4  4\n",
      "  4  4  5  5  5  5  5  5  5  5  5  5  6  6  6  6  6  6  6  6  6  6  7  7\n",
      "  7  7  7  7  7  7  7  7  8  8  8  8  8  8  8  8  8  8  9  9  9  9  9  9\n",
      "  9  9  9  9 10 10 10 10 10 10 10 10 10 10 11 11 11 11 11 11 11 11 11 11\n",
      " 12 12 12 12 12 12 12 12 12 12]\n",
      "{0: 'a', 1: 'b', 2: 'c', 3: 'd', 4: 'e', 5: 'f', 6: 'g', 7: 'h', 8: 'i', 9: 'j', 10: 'k', 11: 'l', 12: 'm'}\n",
      "shape of mean face (1, 5600)\n",
      "shape of  eigenface (130, 5600)\n"
     ]
    },
    {
     "data": {
      "image/png": "[encoded data removed]",
      "text/plain": [
       "<Figure size 640x480 with 1 Axes>"
      ]
     },
     "metadata": {},
     "output_type": "display_data"
    }
   ],
   "source": [
    "# using for training\n",
    "train_folder = \"/Users/kumarswamikallimath/Desktop/EigenFaces/archive\"\n",
    "# img=cv2.imread(\"/Users/kumarswamikallimath/Desktop/EigenFaces/face_dataset/Anu/image1.jpeg\",0)\n",
    "# print(img.shape)\n",
    "# plt.imshow(img,cmap=\"gray\")\n",
    "train_images, labels, label_map = load_image_from_image_dataset(train_folder)\n",
    "\n",
    "print(\"Shape of train images: \",train_images.shape)\n",
    "print(labels)\n",
    "print(label_map)\n",
    "# plt.imshow(train_images[:, :, 0].T,cmap=\"gray\")\n",
    "# plt.show()\n",
    "\n",
    "# Reshape train_images to be a 2D array where each row is a flattened image\n",
    "reshaped_train_images = train_images.reshape(train_images.shape[0] * train_images.shape[1], train_images.shape[2])\n",
    "\n",
    "mean_face, eigenface_opencv, eigenvalues = train_eigenfaces(reshaped_train_images)\n",
    "\n",
    "print(\"shape of mean face\",mean_face.shape)\n",
    "print(\"shape of  eigenface\",eigenface_opencv.shape)\n",
    "\n",
    "# visualise the mean face\n",
    "plt.imshow(mean_face.reshape(reshaped_train_images.shape[0]//80,80).T, cmap=\"gray\")\n",
    "plt.title(\"Mean face\")\n",
    "plt.axis(\"off\")\n",
    "plt.show()\n",
    "\n",
    "# # visulaise eigenfaces\n",
    "# plt.figure(figsize=(25,25))\n",
    "# for i in range(eigenface_opencv.shape[0]):\n",
    "#     plt.subplot(5,3,i+1)\n",
    "#     eigenface=eigenface_opencv[i,:].reshape(64,64)\n",
    "#     plt.imshow(eigenface, cmap=\"gray\")\n",
    "#     plt.title(f\"Eigenface {i+1}\")\n",
    "#     plt.axis(\"off\")\n",
    "# plt.suptitle(\"Top Eigenfaces (OpenCV PCA)\")\n",
    "# plt.tight_layout()\n",
    "# plt.show()"
   ]
  },
  {
   "cell_type": "code",
   "execution_count": 7,
   "metadata": {},
   "outputs": [],
   "source": [
    "# function to project faces\n",
    "def project_face(face_image, mean_face, eigenfaces):\n",
    "    centered_face= face_image - mean_face.flatten()\n",
    "    projection = np.dot(centered_face, eigenfaces.T)\n",
    "    return projection\n"
   ]
  },
  {
   "cell_type": "code",
   "execution_count": 8,
   "metadata": {},
   "outputs": [
    {
     "name": "stdout",
     "output_type": "stream",
     "text": [
      "shape of projected_reshaped_train_face:  (130, 130)\n"
     ]
    }
   ],
   "source": [
    "# using project training images\n",
    "projected_reshaped_train_face = []\n",
    "\n",
    "for face_image in reshaped_train_images.T:\n",
    "    projection= project_face(face_image, mean_face, eigenface_opencv)\n",
    "    projected_reshaped_train_face.append(projection)\n",
    "projected_reshaped_train_face = np.array(projected_reshaped_train_face)\n",
    "print(\"shape of projected_reshaped_train_face: \",projected_reshaped_train_face.shape)"
   ]
  },
  {
   "cell_type": "code",
   "execution_count": 13,
   "metadata": {},
   "outputs": [],
   "source": [
    "# function to recoginise face\n",
    "def recognize_face(test_image_path, mean_face, eigenface_opencv, projected_reshaped_train_face,labels,label_map, target_size=(70,80)):\n",
    "    try:\n",
    "        test_img = cv2.imread(test_image_path,cv2.IMREAD_GRAYSCALE)\n",
    "        if test_img is None:\n",
    "            print(f\"Error: Could not able to read {test_image_path}\")\n",
    "            return \"Unknow\"\n",
    "        \n",
    "        resized_test_img = cv2.resize(test_img, target_size)\n",
    "        flatten_test_img = resized_test_img.flatten()\n",
    "\n",
    "        projected_flatten_test_image = project_face(flatten_test_img, mean_face, eigenface_opencv)\n",
    "\n",
    "        min_distance = float('inf')\n",
    "        predicted_label = -1\n",
    "\n",
    "        for i,projected_face in enumerate(projected_reshaped_train_face):\n",
    "            distance = np.linalg.norm(projected_flatten_test_image-projected_face)\n",
    "\n",
    "            if distance <= min_distance:\n",
    "                min_distance = distance\n",
    "                predicted_label = labels[i]\n",
    "            \n",
    "        if predicted_label != -1:\n",
    "            return label_map[predicted_label], min_distance\n",
    "        else:\n",
    "            return \"Error\", float('inf')\n",
    "    except Exception as e:\n",
    "        print(f\"Error during recognition: {e}\")\n",
    "        return \"Error\", float(\"inf\")"
   ]
  },
  {
   "cell_type": "code",
   "execution_count": 17,
   "metadata": {},
   "outputs": [
    {
     "name": "stdout",
     "output_type": "stream",
     "text": [
      "Pridicted label for /Users/kumarswamikallimath/Desktop/EigenFaces/archive/a/1_1.jpg: e, Distance: 2589.912841796875\n"
     ]
    }
   ],
   "source": [
    "# using recognise face\n",
    "test_image_path = \"/Users/kumarswamikallimath/Desktop/EigenFaces/archive/a/1_1.jpg\"\n",
    "predicted_label, dist = recognize_face(test_image_path, mean_face, eigenface_opencv, projected_reshaped_train_face,labels,label_map)\n",
    "\n",
    "print(f\"Pridicted label for {test_image_path}: {predicted_label}, Distance: {dist}\")"
   ]
  }
 ],
 "metadata": {
  "kernelspec": {
   "display_name": "venv",
   "language": "python",
   "name": "python3"
  },
  "language_info": {
   "codemirror_mode": {
    "name": "ipython",
    "version": 3
   },
   "file_extension": ".py",
   "mimetype": "text/x-python",
   "name": "python",
   "nbconvert_exporter": "python",
   "pygments_lexer": "ipython3",
   "version": "3.13.1"
  }
 },
 "nbformat": 4,
 "nbformat_minor": 2
}
